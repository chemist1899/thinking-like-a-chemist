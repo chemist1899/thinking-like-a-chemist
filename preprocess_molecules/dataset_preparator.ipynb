{
 "cells": [
  {
   "cell_type": "code",
   "execution_count": null,
   "id": "059639cc-2533-4221-ba76-50487e852ac0",
   "metadata": {},
   "outputs": [],
   "source": [
    "from rdkit import Chem\n",
    "from rdkit.Chem import AllChem\n",
    "from descriptors_aggregator import Aggregator\n",
    "import pandas as pd\n",
    "from tqdm import tqdm\n",
    "\n",
    "from rdkit import rdBase\n",
    "blocker = rdBase.BlockLogs()\n",
    "\n",
    "tqdm.pandas()\n"
   ]
  },
  {
   "cell_type": "code",
   "execution_count": null,
   "id": "400c6402-3b0d-4c99-9ddf-0b79f5c527a3",
   "metadata": {},
   "outputs": [],
   "source": [
    "data = pd.read_csv('cleared_pubchem10m.csv')\n",
    "data.head()"
   ]
  },
  {
   "cell_type": "markdown",
   "id": "ceda9c30",
   "metadata": {},
   "source": [
    "### Splitting molecules in substructures"
   ]
  },
  {
   "cell_type": "code",
   "execution_count": null,
   "id": "b283d915-c147-4178-9020-4ecd9e7c9b3c",
   "metadata": {},
   "outputs": [],
   "source": [
    "from splitter import Splitter\n",
    "\n",
    "agg = Aggregator()\n",
    "\n",
    "splitter = Splitter()\n",
    "data['substructures'] = data['smiles'].progress_apply(lambda smi: splitter.get_substructures_smiles_and_merged(smi))\n",
    "\n",
    "data = data.reset_index(drop = True)\n",
    "\n",
    "data = data.dropna(subset=['substructures'])\n",
    "data = data.reset_index(drop = True)"
   ]
  },
  {
   "cell_type": "markdown",
   "id": "dd9c18dd-6b2e-4a73-931f-ec667d5c0fc2",
   "metadata": {},
   "source": [
    "### Dropping bad molecules"
   ]
  },
  {
   "cell_type": "code",
   "execution_count": null,
   "id": "93730cb0-980f-43d8-9303-ba74dcf234a3",
   "metadata": {},
   "outputs": [],
   "source": [
    "dropping = set()\n",
    "for i in range(len(data['substructures'])):\n",
    "    for j in data['substructures'].iloc[i]:\n",
    "        if j != '$':\n",
    "            if j is None:\n",
    "                dropping.add(i)\n",
    "data = data.drop(index = dropping).reset_index(drop = True)"
   ]
  },
  {
   "cell_type": "code",
   "execution_count": null,
   "id": "1c9eaf1d-1284-400d-8a4d-9c449e4b9fba",
   "metadata": {},
   "outputs": [],
   "source": [
    "dropping = set()\n",
    "for i in tqdm(range(len(data['substructures']))):\n",
    "    for j in data['substructures'].iloc[i]:\n",
    "        try:\n",
    "            if j != '$':\n",
    "                if Chem.RemoveHs(Chem.MolFromSmiles(j)).GetNumAtoms() > 30:\n",
    "                    dropping.add(i)\n",
    "                if len(data['substructures'].iloc[i]) < 3 and Chem.RemoveHs(Chem.MolFromSmiles(j)).GetNumAtoms() > 25:\n",
    "                    dropping.add(i)\n",
    "        except:\n",
    "            print(i)"
   ]
  },
  {
   "cell_type": "code",
   "execution_count": null,
   "id": "62b87f19-2ecc-450f-9c65-8ff765596a97",
   "metadata": {},
   "outputs": [],
   "source": [
    "data = data.drop(index = dropping).reset_index(drop = True)"
   ]
  },
  {
   "cell_type": "code",
   "execution_count": null,
   "id": "1bc666ad-d680-450a-a651-2b343e360a95",
   "metadata": {},
   "outputs": [],
   "source": [
    "dropping = []\n",
    "for i in range(len(data['substructures'])):\n",
    "    l = 0\n",
    "    for j in data['substructures'].iloc[i]:\n",
    "        if j != ['$']:\n",
    "            l +=1\n",
    "    if l > 22:\n",
    "        dropping.append(i)\n",
    "        \n",
    "data = data.drop(index = dropping).reset_index(drop = True)"
   ]
  },
  {
   "cell_type": "code",
   "execution_count": null,
   "id": "4c07996d-4a20-445f-af5e-157aebbf8718",
   "metadata": {},
   "outputs": [],
   "source": [
    "for i in tqdm(range(len(data['substructures']))):\n",
    "    for j in data['substructures'].iloc[i]:\n",
    "        if j != '$':\n",
    "            if j is None:\n",
    "                print(i)"
   ]
  },
  {
   "cell_type": "code",
   "execution_count": null,
   "id": "4dbf2105-17da-4193-bbcc-1eced06391a1",
   "metadata": {},
   "outputs": [],
   "source": [
    "data.to_csv('preprocessed_10m_without_descr.csv')"
   ]
  }
 ],
 "metadata": {
  "kernelspec": {
   "display_name": "Python 3 (ipykernel)",
   "language": "python",
   "name": "python3"
  },
  "language_info": {
   "codemirror_mode": {
    "name": "ipython",
    "version": 3
   },
   "file_extension": ".py",
   "mimetype": "text/x-python",
   "name": "python",
   "nbconvert_exporter": "python",
   "pygments_lexer": "ipython3",
   "version": "3.9.19"
  }
 },
 "nbformat": 4,
 "nbformat_minor": 5
}
