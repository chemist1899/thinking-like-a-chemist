{
 "cells": [
  {
   "cell_type": "code",
   "execution_count": null,
   "metadata": {
    "execution": {
     "iopub.execute_input": "2025-05-11T21:53:07.364474Z",
     "iopub.status.busy": "2025-05-11T21:53:07.362425Z",
     "iopub.status.idle": "2025-05-11T21:53:14.540050Z",
     "shell.execute_reply": "2025-05-11T21:53:14.539273Z"
    }
   },
   "outputs": [],
   "source": [
    "import torch\n",
    "from tqdm.auto import tqdm\n",
    "import wandb\n",
    "from importlib import reload\n",
    "import pandas as pd\n",
    "import os"
   ]
  },
  {
   "cell_type": "code",
   "execution_count": null,
   "metadata": {
    "execution": {
     "iopub.execute_input": "2025-05-11T21:53:14.547272Z",
     "iopub.status.busy": "2025-05-11T21:53:14.544686Z",
     "iopub.status.idle": "2025-05-11T21:53:18.038958Z",
     "shell.execute_reply": "2025-05-11T21:53:18.038124Z"
    }
   },
   "outputs": [],
   "source": [
    "!python3 -m wandb login $WANDB_TOKEN"
   ]
  },
  {
   "cell_type": "code",
   "execution_count": null,
   "metadata": {
    "execution": {
     "iopub.execute_input": "2025-05-11T21:53:18.043237Z",
     "iopub.status.busy": "2025-05-11T21:53:18.042860Z",
     "iopub.status.idle": "2025-05-11T21:53:18.048765Z",
     "shell.execute_reply": "2025-05-11T21:53:18.048159Z"
    }
   },
   "outputs": [],
   "source": [
    "samples_count = '10m'\n",
    "model_name = f'subd-bert_{samples_count}'\n",
    "\n",
    "dataset_name = 'bbbp'\n",
    "target = 'p_np'"
   ]
  },
  {
   "cell_type": "code",
   "execution_count": null,
   "metadata": {
    "execution": {
     "iopub.execute_input": "2025-05-11T21:53:18.052370Z",
     "iopub.status.busy": "2025-05-11T21:53:18.052091Z",
     "iopub.status.idle": "2025-05-11T21:53:18.059220Z",
     "shell.execute_reply": "2025-05-11T21:53:18.058613Z"
    }
   },
   "outputs": [],
   "source": [
    "tqdm.pandas()\n",
    "\n",
    "def read_data(part: str):\n",
    "    data = pd.read_csv(f'{dataset_name}/{dataset_name}_{part}.csv')\n",
    "    import ast\n",
    "\n",
    "    def string_to_array(input_string):\n",
    "        try:\n",
    "            # Use ast.literal_eval to safely evaluate the string as a Python literal\n",
    "            result = ast.literal_eval(input_string)\n",
    "            return result\n",
    "        except (SyntaxError, ValueError) as e:\n",
    "            print(f\"Error parsing the string: {e}\")\n",
    "            return None\n",
    "    data['descriptors'] = data['descriptors'].progress_apply(lambda x: string_to_array(x))\n",
    "\n",
    "    data = data.dropna(subset=[target]).reset_index(drop=True)\n",
    "    return data"
   ]
  },
  {
   "cell_type": "code",
   "execution_count": null,
   "metadata": {
    "execution": {
     "iopub.execute_input": "2025-05-11T21:53:18.063372Z",
     "iopub.status.busy": "2025-05-11T21:53:18.062325Z",
     "iopub.status.idle": "2025-05-11T21:53:19.477826Z",
     "shell.execute_reply": "2025-05-11T21:53:19.476955Z"
    }
   },
   "outputs": [],
   "source": [
    "data_train = read_data(\"train\")\n",
    "data_eval = read_data(\"valid\")\n",
    "data_test = read_data(\"test\")"
   ]
  },
  {
   "cell_type": "code",
   "execution_count": null,
   "metadata": {
    "execution": {
     "iopub.execute_input": "2025-05-11T21:53:19.481634Z",
     "iopub.status.busy": "2025-05-11T21:53:19.480692Z",
     "iopub.status.idle": "2025-05-11T21:53:19.487469Z",
     "shell.execute_reply": "2025-05-11T21:53:19.486728Z"
    }
   },
   "outputs": [],
   "source": [
    "import shifter as sh\n",
    "reload(sh)\n",
    "\n",
    "shifter = sh.Shifter()"
   ]
  },
  {
   "cell_type": "code",
   "execution_count": null,
   "metadata": {
    "execution": {
     "iopub.execute_input": "2025-05-11T21:53:19.490387Z",
     "iopub.status.busy": "2025-05-11T21:53:19.490181Z",
     "iopub.status.idle": "2025-05-11T21:53:19.652254Z",
     "shell.execute_reply": "2025-05-11T21:53:19.651462Z"
    }
   },
   "outputs": [],
   "source": [
    "for data in [data_train, data_eval, data_test]:\n",
    "    for descriptors_of_substructures in data['descriptors']:\n",
    "        shifter.shift(descriptors_of_substructures)"
   ]
  },
  {
   "cell_type": "code",
   "execution_count": null,
   "metadata": {},
   "outputs": [],
   "source": [
    "data_train['descriptors'][0]"
   ]
  },
  {
   "cell_type": "code",
   "execution_count": null,
   "metadata": {
    "execution": {
     "iopub.execute_input": "2025-05-11T21:53:19.732771Z",
     "iopub.status.busy": "2025-05-11T21:53:19.731676Z",
     "iopub.status.idle": "2025-05-11T21:53:19.746777Z",
     "shell.execute_reply": "2025-05-11T21:53:19.745736Z"
    }
   },
   "outputs": [],
   "source": [
    "import tokenizer as tokenizer\n",
    "reload(tokenizer)"
   ]
  },
  {
   "cell_type": "code",
   "execution_count": null,
   "metadata": {
    "execution": {
     "iopub.execute_input": "2025-05-11T21:53:19.793850Z",
     "iopub.status.busy": "2025-05-11T21:53:19.792802Z",
     "iopub.status.idle": "2025-05-11T21:53:19.807193Z",
     "shell.execute_reply": "2025-05-11T21:53:19.804040Z"
    }
   },
   "outputs": [],
   "source": [
    "def tokenize_descriptors(data, start = 0, end = -1):\n",
    "    sample = tokenizer.tokenize(data['descriptors'][start:end], max_length=512)\n",
    "    return torch.tensor(sample['input_ids']), torch.tensor(sample['attention_mask']), torch.tensor(data[target][start:end])"
   ]
  },
  {
   "cell_type": "code",
   "execution_count": null,
   "metadata": {
    "execution": {
     "iopub.execute_input": "2025-05-11T21:53:19.811179Z",
     "iopub.status.busy": "2025-05-11T21:53:19.810950Z",
     "iopub.status.idle": "2025-05-11T21:53:23.814021Z",
     "shell.execute_reply": "2025-05-11T21:53:23.813024Z"
    }
   },
   "outputs": [],
   "source": [
    "train_input_ids, train_mask, train_targets                = tokenize_descriptors(data_train)\n",
    "validation_input_ids, validation_mask, validation_targets = tokenize_descriptors(data_eval)\n",
    "test_input_ids, test_mask, test_targets                   = tokenize_descriptors(data_test)"
   ]
  },
  {
   "cell_type": "code",
   "execution_count": null,
   "metadata": {
    "execution": {
     "iopub.execute_input": "2025-05-11T21:53:23.837903Z",
     "iopub.status.busy": "2025-05-11T21:53:23.836517Z",
     "iopub.status.idle": "2025-05-11T21:53:23.857070Z",
     "shell.execute_reply": "2025-05-11T21:53:23.856489Z"
    }
   },
   "outputs": [],
   "source": [
    "print(train_input_ids.shape)\n",
    "print(validation_input_ids.shape)\n",
    "print(validation_input_ids.shape)"
   ]
  },
  {
   "cell_type": "code",
   "execution_count": null,
   "metadata": {
    "execution": {
     "iopub.execute_input": "2025-05-11T21:53:23.859896Z",
     "iopub.status.busy": "2025-05-11T21:53:23.859703Z",
     "iopub.status.idle": "2025-05-11T21:53:23.871320Z",
     "shell.execute_reply": "2025-05-11T21:53:23.870738Z"
    }
   },
   "outputs": [],
   "source": [
    "train_input_ids[0]"
   ]
  },
  {
   "cell_type": "code",
   "execution_count": null,
   "metadata": {},
   "outputs": [],
   "source": [
    "train_targets[0]"
   ]
  },
  {
   "cell_type": "markdown",
   "metadata": {},
   "source": [
    "### dataset and dataloader"
   ]
  },
  {
   "cell_type": "code",
   "execution_count": null,
   "metadata": {
    "execution": {
     "iopub.execute_input": "2025-05-11T21:53:23.898679Z",
     "iopub.status.busy": "2025-05-11T21:53:23.897653Z",
     "iopub.status.idle": "2025-05-11T21:53:23.903743Z",
     "shell.execute_reply": "2025-05-11T21:53:23.903195Z"
    }
   },
   "outputs": [],
   "source": [
    "class Dataset(torch.utils.data.Dataset):\n",
    "    def __init__(self, encodings):\n",
    "        self.encodings = encodings\n",
    "\n",
    "    def __len__(self):\n",
    "        return self.encodings['input_ids'].shape[0]\n",
    "\n",
    "    def __getitem__(self, i):\n",
    "        return {key: tensor[i] for key, tensor in self.encodings.items()}"
   ]
  },
  {
   "cell_type": "code",
   "execution_count": null,
   "metadata": {
    "execution": {
     "iopub.execute_input": "2025-05-11T21:53:23.906348Z",
     "iopub.status.busy": "2025-05-11T21:53:23.906158Z",
     "iopub.status.idle": "2025-05-11T21:53:23.910606Z",
     "shell.execute_reply": "2025-05-11T21:53:23.910021Z"
    }
   },
   "outputs": [],
   "source": [
    "train_dataset = Dataset({'input_ids': train_input_ids, 'attention_mask': train_mask, target: train_targets})\n",
    "validation_dataset = Dataset({'input_ids': validation_input_ids, 'attention_mask': validation_mask, target: validation_targets})\n",
    "test_dataset = Dataset({'input_ids': test_input_ids, 'attention_mask': test_mask, target: test_targets})"
   ]
  },
  {
   "cell_type": "code",
   "execution_count": null,
   "metadata": {
    "execution": {
     "iopub.execute_input": "2025-05-11T21:53:23.914315Z",
     "iopub.status.busy": "2025-05-11T21:53:23.913264Z",
     "iopub.status.idle": "2025-05-11T21:53:23.917338Z",
     "shell.execute_reply": "2025-05-11T21:53:23.916792Z"
    }
   },
   "outputs": [],
   "source": [
    "batch_size = 32"
   ]
  },
  {
   "cell_type": "code",
   "execution_count": null,
   "metadata": {
    "execution": {
     "iopub.execute_input": "2025-05-11T21:53:23.920976Z",
     "iopub.status.busy": "2025-05-11T21:53:23.919806Z",
     "iopub.status.idle": "2025-05-11T21:53:23.932705Z",
     "shell.execute_reply": "2025-05-11T21:53:23.932087Z"
    }
   },
   "outputs": [],
   "source": [
    "train_dataloader = torch.utils.data.DataLoader(train_dataset, batch_size=batch_size, shuffle=True)\n",
    "eval_dataloader = torch.utils.data.DataLoader(validation_dataset, batch_size=batch_size, shuffle=False, drop_last=True)\n",
    "test_dataloader = torch.utils.data.DataLoader(test_dataset, batch_size=batch_size, shuffle=False)"
   ]
  },
  {
   "cell_type": "markdown",
   "metadata": {},
   "source": [
    "### MolecularPropertiesClassification with RoBERTa model "
   ]
  },
  {
   "cell_type": "code",
   "execution_count": null,
   "metadata": {},
   "outputs": [],
   "source": [
    "from transformers import AutoModel, AutoConfig, PreTrainedModel\n",
    "\n",
    "class MolecularPropertiesClassification(PreTrainedModel):\n",
    "    def __init__(self, model_name_):\n",
    "        configuration = AutoConfig.from_pretrained(model_name_)\n",
    "        super(MolecularPropertiesClassification, self).__init__(configuration)\n",
    "        \n",
    "        self.transformer1 = AutoModel.from_pretrained(model_name_, config=configuration)\n",
    "        \n",
    "        self.transformer1.pooler = torch.nn.Identity() # removing last layer of transformer\n",
    "        \n",
    "        for param in self.transformer1.parameters():\n",
    "            param.requires_grad = False # freezing transformer weights\n",
    "\n",
    "        self.linear1 = torch.nn.Linear(768, 768, bias=True)\n",
    "        self.linear2 = torch.nn.Linear(768, 2, bias=True)\n",
    "\n",
    "    def forward(self, input_ids = None, attention_mask=None):\n",
    "        outputs1 = self.transformer1(input_ids=input_ids, attention_mask=attention_mask)\n",
    "        last_hidden_state1 = outputs1[0]\n",
    "        \n",
    "        first_linear_out = self.linear1(last_hidden_state1[:, 0, : ].view(-1, 768))\n",
    "        logits = self.linear2(torch.nn.functional.sigmoid(first_linear_out))\n",
    "\n",
    "        return logits"
   ]
  },
  {
   "cell_type": "code",
   "execution_count": null,
   "metadata": {},
   "outputs": [],
   "source": [
    "model = MolecularPropertiesClassification(model_name)"
   ]
  },
  {
   "cell_type": "markdown",
   "metadata": {},
   "source": [
    "And now we move onto training. First we setup GPU/CPU usage."
   ]
  },
  {
   "cell_type": "code",
   "execution_count": null,
   "metadata": {
    "execution": {
     "iopub.execute_input": "2025-05-11T21:53:32.497012Z",
     "iopub.status.busy": "2025-05-11T21:53:32.496377Z",
     "iopub.status.idle": "2025-05-11T21:53:34.863554Z",
     "shell.execute_reply": "2025-05-11T21:53:34.862843Z"
    }
   },
   "outputs": [],
   "source": [
    "torch.cuda.is_available()"
   ]
  },
  {
   "cell_type": "code",
   "execution_count": null,
   "metadata": {
    "execution": {
     "iopub.execute_input": "2025-05-11T21:53:34.867761Z",
     "iopub.status.busy": "2025-05-11T21:53:34.866698Z",
     "iopub.status.idle": "2025-05-11T21:53:39.546801Z",
     "shell.execute_reply": "2025-05-11T21:53:39.546001Z"
    }
   },
   "outputs": [],
   "source": [
    "device = torch.device('cuda', index=2) if torch.cuda.is_available() else torch.device('cpu')\n",
    "model.to(device)"
   ]
  },
  {
   "cell_type": "markdown",
   "metadata": {},
   "source": [
    "Activate the training mode of our model, and initialize our optimizer (Adam with weighted decay - reduces chance of overfitting)."
   ]
  },
  {
   "cell_type": "code",
   "execution_count": null,
   "metadata": {
    "execution": {
     "iopub.execute_input": "2025-05-11T21:53:39.551466Z",
     "iopub.status.busy": "2025-05-11T21:53:39.550380Z",
     "iopub.status.idle": "2025-05-11T21:53:40.715680Z",
     "shell.execute_reply": "2025-05-11T21:53:40.714831Z"
    }
   },
   "outputs": [],
   "source": [
    "from transformers import AdamW\n",
    "\n",
    "model.train()\n",
    "optimizer = AdamW(model.parameters(), lr=1e-5)\n",
    "loss_func = torch.nn.CrossEntropyLoss()"
   ]
  },
  {
   "cell_type": "markdown",
   "metadata": {},
   "source": [
    "### Do Training"
   ]
  },
  {
   "cell_type": "code",
   "execution_count": null,
   "metadata": {
    "execution": {
     "iopub.execute_input": "2025-05-11T21:53:40.720586Z",
     "iopub.status.busy": "2025-05-11T21:53:40.719548Z",
     "iopub.status.idle": "2025-05-11T21:53:52.304143Z",
     "shell.execute_reply": "2025-05-11T21:53:52.303429Z"
    }
   },
   "outputs": [],
   "source": [
    "wandb.init(\n",
    "    project=\"bert_transformer\",\n",
    "    name=f\"{dataset_name} {model_name} training\"\n",
    ")"
   ]
  },
  {
   "cell_type": "code",
   "execution_count": null,
   "metadata": {},
   "outputs": [],
   "source": [
    "from sklearn.metrics import accuracy_score, f1_score, recall_score, precision_score, roc_auc_score\n",
    "\n",
    "def wandb_log(epoch_loss_train,\n",
    "              total_train_true_labels, \n",
    "              total_train_pred_labels,\n",
    "\n",
    "              epoch_loss_eval,\n",
    "              total_eval_true_labels, \n",
    "              total_eval_pred_labels):\n",
    "    \n",
    "    train_labels = [total_train_true_labels, total_train_pred_labels]\n",
    "    eval_labels = [total_eval_true_labels, total_eval_pred_labels]\n",
    "\n",
    "    wandb.log({\"loss/train\":                epoch_loss_train / len(train_dataloader),\n",
    "               \"accuracy/train\":            accuracy_score( *train_labels),\n",
    "               \"f1/train\":                  f1_score(       *train_labels, average='micro'),\n",
    "               \"precision/train\":           precision_score(*train_labels, average='micro'),\n",
    "               \"recall/train\":              recall_score(   *train_labels, average='micro'),\n",
    "               \"roc_auc_score/train\":       roc_auc_score(  *train_labels),\n",
    "               \n",
    "               \"loss/validation\":           epoch_loss_eval / len(eval_dataloader),\n",
    "               \"accuracy/validation\":       accuracy_score( *eval_labels),\n",
    "               \"f1/validation\":             f1_score(       *eval_labels, average='micro'),\n",
    "               \"precision/validation\":      precision_score(*eval_labels, average='micro'),\n",
    "               \"recall/validation\":         recall_score(   *eval_labels, average='micro'),\n",
    "               \"roc_auc_score/validation\":  roc_auc_score(  *eval_labels)})"
   ]
  },
  {
   "cell_type": "code",
   "execution_count": null,
   "metadata": {
    "execution": {
     "iopub.execute_input": "2025-05-11T21:53:52.308576Z",
     "iopub.status.busy": "2025-05-11T21:53:52.307436Z",
     "iopub.status.idle": "2025-05-11T21:53:57.967144Z",
     "shell.execute_reply": "2025-05-11T21:53:57.965102Z"
    }
   },
   "outputs": [],
   "source": [
    "from tqdm import tqdm\n",
    "\n",
    "epochs = 10\n",
    "step = 0\n",
    "\n",
    "progress_bar_train = tqdm(range(epochs * len(train_dataloader)))\n",
    "progress_bar_eval  = tqdm(range(epochs * len(eval_dataloader)))\n",
    "\n",
    "for epoch in range(epochs):\n",
    "    progress_bar_train.set_description(f\"Epoch: {epoch}\")\n",
    "    progress_bar_eval.set_description(f\"Epoch: {epoch}\")\n",
    "\n",
    "    total_train_pred_labels = []\n",
    "    total_train_true_labels = []\n",
    "    epoch_loss_train = 0\n",
    "\n",
    "    for batch in train_dataloader:\n",
    "        input_batch = { k: v.to(device) for k, v in batch.items() if k in ['input_ids', 'attention_mask'] }\n",
    "        batch[target] = batch[target].to(device)\n",
    "        \n",
    "        logits = model(**input_batch)\n",
    "        loss = loss_func(logits.view(-1, 2), batch[target].view(-1).type(torch.cuda.LongTensor))\n",
    "        loss.backward()\n",
    "        epoch_loss_train += loss.item()\n",
    "        \n",
    "        optimizer.step()\n",
    "        optimizer.zero_grad()\n",
    "        progress_bar_train.update(1)\n",
    "\n",
    "        pred_labels = torch.argmax(logits, dim=-1)\n",
    "        true_labels = batch[target]\n",
    "        total_train_pred_labels.append(pred_labels)\n",
    "        total_train_true_labels.append(true_labels)\n",
    "\n",
    "    total_train_pred_labels = torch.cat(total_train_pred_labels).cpu().detach().numpy()\n",
    "    total_train_true_labels = torch.cat(total_train_true_labels).cpu().detach().numpy()\n",
    "    \n",
    "\n",
    "    model.eval()\n",
    "    \n",
    "    total_eval_pred_labels = []\n",
    "    total_eval_true_labels = []\n",
    "    epoch_loss_eval = 0\n",
    "\n",
    "    for batch in eval_dataloader:\n",
    "        input_batch = { k: v.to(device) for k, v in batch.items() if k in ['input_ids', 'attention_mask'] }\n",
    "        batch[target] = batch[target].to(device)\n",
    "        \n",
    "        with torch.no_grad():\n",
    "            logits = model(**input_batch)\n",
    "            loss = loss_func(logits.view(-1, 2), batch[target].view(-1).type(torch.cuda.LongTensor))\n",
    "            epoch_loss_eval += loss.item()\n",
    "\n",
    "            pred_labels = torch.argmax(logits, dim=-1)\n",
    "            true_labels = batch[target]\n",
    "            total_eval_pred_labels.append(pred_labels)\n",
    "            total_eval_true_labels.append(true_labels)\n",
    "        \n",
    "        progress_bar_eval.update(1)\n",
    "\n",
    "    total_eval_pred_labels = torch.cat(total_eval_pred_labels).cpu().detach().numpy()\n",
    "    total_eval_true_labels = torch.cat(total_eval_true_labels).cpu().detach().numpy()\n",
    "    \n",
    "    wandb_log(epoch_loss_train,\n",
    "              total_train_true_labels, \n",
    "              total_train_pred_labels,\n",
    "\n",
    "              epoch_loss_eval,\n",
    "              total_eval_true_labels, \n",
    "              total_eval_pred_labels)\n"
   ]
  },
  {
   "cell_type": "code",
   "execution_count": null,
   "metadata": {
    "execution": {
     "iopub.execute_input": "2025-05-11T21:53:57.977765Z",
     "iopub.status.busy": "2025-05-11T21:53:57.976348Z",
     "iopub.status.idle": "2025-05-11T21:54:10.051238Z",
     "shell.execute_reply": "2025-05-11T21:54:10.050162Z"
    }
   },
   "outputs": [],
   "source": [
    "wandb.finish()"
   ]
  },
  {
   "cell_type": "markdown",
   "metadata": {},
   "source": [
    "### Do Testing"
   ]
  },
  {
   "cell_type": "code",
   "execution_count": null,
   "metadata": {
    "execution": {
     "iopub.execute_input": "2025-05-11T21:54:10.055321Z",
     "iopub.status.busy": "2025-05-11T21:54:10.055064Z",
     "iopub.status.idle": "2025-05-11T21:54:17.604840Z",
     "shell.execute_reply": "2025-05-11T21:54:17.603685Z"
    }
   },
   "outputs": [],
   "source": [
    "wandb.init(\n",
    "    project=\"bert_transformer\",\n",
    "    name=f\"{dataset_name} {model_name} testing\"\n",
    ")"
   ]
  },
  {
   "cell_type": "code",
   "execution_count": null,
   "metadata": {
    "execution": {
     "iopub.execute_input": "2025-05-11T21:54:17.610454Z",
     "iopub.status.busy": "2025-05-11T21:54:17.609102Z",
     "iopub.status.idle": "2025-05-11T21:54:18.325604Z",
     "shell.execute_reply": "2025-05-11T21:54:18.324817Z"
    }
   },
   "outputs": [],
   "source": [
    "def test_loop():\n",
    "    model.eval()\n",
    "    total_pred_labels = []\n",
    "    total_true_labels = []\n",
    "    epoch_loss = 0\n",
    "    for batch in test_dataloader:\n",
    "        input_batch = { k: v.to(device) for k, v in batch.items() if k in ['input_ids', 'attention_mask'] }\n",
    "        batch[target] = batch[target].to(device)\n",
    "        \n",
    "        with torch.no_grad():\n",
    "            logits = model(**input_batch)\n",
    "            loss = loss_func(logits.view(-1, 2), batch[target].view(-1).type(torch.cuda.LongTensor))\n",
    "            epoch_loss += loss.item()\n",
    "\n",
    "            pred_labels = torch.argmax(logits, dim=-1)\n",
    "            true_labels = batch[target]\n",
    "            total_pred_labels.append(pred_labels)\n",
    "            total_true_labels.append(true_labels)\n",
    "        \n",
    "        progress_bar_eval.update(1)\n",
    "\n",
    "    total_pred_labels = torch.cat(total_pred_labels).cpu().detach().numpy()\n",
    "    total_true_labels = torch.cat(total_true_labels).cpu().detach().numpy()\n",
    "    \n",
    "    wandb.log({\"loss/test\": epoch_loss / len(test_dataloader),\n",
    "               \"accuracy/test\": accuracy_score(total_true_labels, total_pred_labels),\n",
    "               \"f1/test\": f1_score(total_true_labels, total_pred_labels, average='micro'),\n",
    "               \"precision/test\": precision_score(total_true_labels, total_pred_labels, average='micro'),\n",
    "               \"recall/test\": recall_score(total_true_labels, total_pred_labels, average='micro'),\n",
    "               \"roc_auc_score/test\": roc_auc_score(total_true_labels, total_pred_labels)})"
   ]
  },
  {
   "cell_type": "code",
   "execution_count": null,
   "metadata": {},
   "outputs": [],
   "source": [
    "test_loop()"
   ]
  },
  {
   "cell_type": "code",
   "execution_count": null,
   "metadata": {
    "execution": {
     "iopub.execute_input": "2025-05-11T21:54:18.329003Z",
     "iopub.status.busy": "2025-05-11T21:54:18.328779Z",
     "iopub.status.idle": "2025-05-11T21:54:30.877309Z",
     "shell.execute_reply": "2025-05-11T21:54:30.876607Z"
    }
   },
   "outputs": [],
   "source": [
    "wandb.finish()"
   ]
  },
  {
   "cell_type": "code",
   "execution_count": null,
   "metadata": {
    "execution": {
     "iopub.execute_input": "2025-05-11T21:54:30.881353Z",
     "iopub.status.busy": "2025-05-11T21:54:30.880982Z",
     "iopub.status.idle": "2025-05-11T21:54:31.243415Z",
     "shell.execute_reply": "2025-05-11T21:54:31.241703Z"
    }
   },
   "outputs": [],
   "source": [
    "model.save_pretrained(model_name + \"-\" + dataset_name)"
   ]
  },
  {
   "cell_type": "code",
   "execution_count": null,
   "metadata": {
    "execution": {
     "iopub.execute_input": "2025-05-11T21:54:31.252294Z",
     "iopub.status.busy": "2025-05-11T21:54:31.251397Z",
     "iopub.status.idle": "2025-05-11T21:54:31.255609Z",
     "shell.execute_reply": "2025-05-11T21:54:31.254906Z"
    }
   },
   "outputs": [],
   "source": [
    "torch.cuda.empty_cache()"
   ]
  }
 ],
 "metadata": {
  "kernelspec": {
   "display_name": "myenv",
   "language": "python",
   "name": "python3"
  },
  "language_info": {
   "codemirror_mode": {
    "name": "ipython",
    "version": 3
   },
   "file_extension": ".py",
   "mimetype": "text/x-python",
   "name": "python",
   "nbconvert_exporter": "python",
   "pygments_lexer": "ipython3",
   "version": "3.9.19"
  },
  "widgets": {
   "application/vnd.jupyter.widget-state+json": {
    "state": {
     "008f9f8bdfb549cfad90de44c09423d3": {
      "model_module": "@jupyter-widgets/controls",
      "model_module_version": "2.0.0",
      "model_name": "HTMLStyleModel",
      "state": {
       "_model_module": "@jupyter-widgets/controls",
       "_model_module_version": "2.0.0",
       "_model_name": "HTMLStyleModel",
       "_view_count": null,
       "_view_module": "@jupyter-widgets/base",
       "_view_module_version": "2.0.0",
       "_view_name": "StyleView",
       "background": null,
       "description_width": "",
       "font_size": null,
       "text_color": null
      }
     },
     "0abb0e1e558d4648ad7338b4bd61f7cc": {
      "model_module": "@jupyter-widgets/controls",
      "model_module_version": "2.0.0",
      "model_name": "HTMLStyleModel",
      "state": {
       "_model_module": "@jupyter-widgets/controls",
       "_model_module_version": "2.0.0",
       "_model_name": "HTMLStyleModel",
       "_view_count": null,
       "_view_module": "@jupyter-widgets/base",
       "_view_module_version": "2.0.0",
       "_view_name": "StyleView",
       "background": null,
       "description_width": "",
       "font_size": null,
       "text_color": null
      }
     },
     "1b8efd9a4d634c4f989606caf6d2a4aa": {
      "model_module": "@jupyter-widgets/base",
      "model_module_version": "2.0.0",
      "model_name": "LayoutModel",
      "state": {
       "_model_module": "@jupyter-widgets/base",
       "_model_module_version": "2.0.0",
       "_model_name": "LayoutModel",
       "_view_count": null,
       "_view_module": "@jupyter-widgets/base",
       "_view_module_version": "2.0.0",
       "_view_name": "LayoutView",
       "align_content": null,
       "align_items": null,
       "align_self": null,
       "border_bottom": null,
       "border_left": null,
       "border_right": null,
       "border_top": null,
       "bottom": null,
       "display": null,
       "flex": null,
       "flex_flow": null,
       "grid_area": null,
       "grid_auto_columns": null,
       "grid_auto_flow": null,
       "grid_auto_rows": null,
       "grid_column": null,
       "grid_gap": null,
       "grid_row": null,
       "grid_template_areas": null,
       "grid_template_columns": null,
       "grid_template_rows": null,
       "height": null,
       "justify_content": null,
       "justify_items": null,
       "left": null,
       "margin": null,
       "max_height": null,
       "max_width": null,
       "min_height": null,
       "min_width": null,
       "object_fit": null,
       "object_position": null,
       "order": null,
       "overflow": null,
       "padding": null,
       "right": null,
       "top": null,
       "visibility": null,
       "width": null
      }
     },
     "23c175886da445f6a3bab57bb14e8473": {
      "model_module": "@jupyter-widgets/base",
      "model_module_version": "2.0.0",
      "model_name": "LayoutModel",
      "state": {
       "_model_module": "@jupyter-widgets/base",
       "_model_module_version": "2.0.0",
       "_model_name": "LayoutModel",
       "_view_count": null,
       "_view_module": "@jupyter-widgets/base",
       "_view_module_version": "2.0.0",
       "_view_name": "LayoutView",
       "align_content": null,
       "align_items": null,
       "align_self": null,
       "border_bottom": null,
       "border_left": null,
       "border_right": null,
       "border_top": null,
       "bottom": null,
       "display": null,
       "flex": null,
       "flex_flow": null,
       "grid_area": null,
       "grid_auto_columns": null,
       "grid_auto_flow": null,
       "grid_auto_rows": null,
       "grid_column": null,
       "grid_gap": null,
       "grid_row": null,
       "grid_template_areas": null,
       "grid_template_columns": null,
       "grid_template_rows": null,
       "height": null,
       "justify_content": null,
       "justify_items": null,
       "left": null,
       "margin": null,
       "max_height": null,
       "max_width": null,
       "min_height": null,
       "min_width": null,
       "object_fit": null,
       "object_position": null,
       "order": null,
       "overflow": null,
       "padding": null,
       "right": null,
       "top": null,
       "visibility": null,
       "width": null
      }
     },
     "338ae43c68af4cdbb1d8b2094b7e24f8": {
      "model_module": "@jupyter-widgets/controls",
      "model_module_version": "2.0.0",
      "model_name": "FloatProgressModel",
      "state": {
       "_dom_classes": [],
       "_model_module": "@jupyter-widgets/controls",
       "_model_module_version": "2.0.0",
       "_model_name": "FloatProgressModel",
       "_view_count": null,
       "_view_module": "@jupyter-widgets/controls",
       "_view_module_version": "2.0.0",
       "_view_name": "ProgressView",
       "bar_style": "success",
       "description": "",
       "description_allow_html": false,
       "layout": "IPY_MODEL_23c175886da445f6a3bab57bb14e8473",
       "max": 131,
       "min": 0,
       "orientation": "horizontal",
       "style": "IPY_MODEL_a94c607e85894f70ae4a8815eff6d5eb",
       "tabbable": null,
       "tooltip": null,
       "value": 131
      }
     },
     "443ce3f24ca94b8e95f07d0288aecd7b": {
      "model_module": "@jupyter-widgets/controls",
      "model_module_version": "2.0.0",
      "model_name": "HTMLModel",
      "state": {
       "_dom_classes": [],
       "_model_module": "@jupyter-widgets/controls",
       "_model_module_version": "2.0.0",
       "_model_name": "HTMLModel",
       "_view_count": null,
       "_view_module": "@jupyter-widgets/controls",
       "_view_module_version": "2.0.0",
       "_view_name": "HTMLView",
       "description": "",
       "description_allow_html": false,
       "layout": "IPY_MODEL_675c1136322a4aec985ef3aecafe503f",
       "placeholder": "​",
       "style": "IPY_MODEL_6bf9afc2ef3b4e56abfb31b1dcb70258",
       "tabbable": null,
       "tooltip": null,
       "value": "100%"
      }
     },
     "488c17ddd5384aaaae362b9d1d561e5f": {
      "model_module": "@jupyter-widgets/controls",
      "model_module_version": "2.0.0",
      "model_name": "HTMLModel",
      "state": {
       "_dom_classes": [],
       "_model_module": "@jupyter-widgets/controls",
       "_model_module_version": "2.0.0",
       "_model_name": "HTMLModel",
       "_view_count": null,
       "_view_module": "@jupyter-widgets/controls",
       "_view_module_version": "2.0.0",
       "_view_name": "HTMLView",
       "description": "",
       "description_allow_html": false,
       "layout": "IPY_MODEL_7d7ecb9043954628906fcb5610acd1d5",
       "placeholder": "​",
       "style": "IPY_MODEL_bcb5b63d84ce479a8138a44afe2d4037",
       "tabbable": null,
       "tooltip": null,
       "value": " 131/131 [00:00&lt;00:00, 1302.84it/s]"
      }
     },
     "539f21e125554233a5d869d9a617f262": {
      "model_module": "@jupyter-widgets/controls",
      "model_module_version": "2.0.0",
      "model_name": "HTMLModel",
      "state": {
       "_dom_classes": [],
       "_model_module": "@jupyter-widgets/controls",
       "_model_module_version": "2.0.0",
       "_model_name": "HTMLModel",
       "_view_count": null,
       "_view_module": "@jupyter-widgets/controls",
       "_view_module_version": "2.0.0",
       "_view_name": "HTMLView",
       "description": "",
       "description_allow_html": false,
       "layout": "IPY_MODEL_1b8efd9a4d634c4f989606caf6d2a4aa",
       "placeholder": "​",
       "style": "IPY_MODEL_cb88492eba444622bbf4980caf375c15",
       "tabbable": null,
       "tooltip": null,
       "value": "100%"
      }
     },
     "5ae4a54b5141411887c1b286647bc246": {
      "model_module": "@jupyter-widgets/base",
      "model_module_version": "2.0.0",
      "model_name": "LayoutModel",
      "state": {
       "_model_module": "@jupyter-widgets/base",
       "_model_module_version": "2.0.0",
       "_model_name": "LayoutModel",
       "_view_count": null,
       "_view_module": "@jupyter-widgets/base",
       "_view_module_version": "2.0.0",
       "_view_name": "LayoutView",
       "align_content": null,
       "align_items": null,
       "align_self": null,
       "border_bottom": null,
       "border_left": null,
       "border_right": null,
       "border_top": null,
       "bottom": null,
       "display": null,
       "flex": null,
       "flex_flow": null,
       "grid_area": null,
       "grid_auto_columns": null,
       "grid_auto_flow": null,
       "grid_auto_rows": null,
       "grid_column": null,
       "grid_gap": null,
       "grid_row": null,
       "grid_template_areas": null,
       "grid_template_columns": null,
       "grid_template_rows": null,
       "height": null,
       "justify_content": null,
       "justify_items": null,
       "left": null,
       "margin": null,
       "max_height": null,
       "max_width": null,
       "min_height": null,
       "min_width": null,
       "object_fit": null,
       "object_position": null,
       "order": null,
       "overflow": null,
       "padding": null,
       "right": null,
       "top": null,
       "visibility": null,
       "width": null
      }
     },
     "5c8e2ed0834f42539d234a46fd422271": {
      "model_module": "@jupyter-widgets/controls",
      "model_module_version": "2.0.0",
      "model_name": "ProgressStyleModel",
      "state": {
       "_model_module": "@jupyter-widgets/controls",
       "_model_module_version": "2.0.0",
       "_model_name": "ProgressStyleModel",
       "_view_count": null,
       "_view_module": "@jupyter-widgets/base",
       "_view_module_version": "2.0.0",
       "_view_name": "StyleView",
       "bar_color": null,
       "description_width": ""
      }
     },
     "637cb71e0fe14d90babef09bf5cfdb88": {
      "model_module": "@jupyter-widgets/base",
      "model_module_version": "2.0.0",
      "model_name": "LayoutModel",
      "state": {
       "_model_module": "@jupyter-widgets/base",
       "_model_module_version": "2.0.0",
       "_model_name": "LayoutModel",
       "_view_count": null,
       "_view_module": "@jupyter-widgets/base",
       "_view_module_version": "2.0.0",
       "_view_name": "LayoutView",
       "align_content": null,
       "align_items": null,
       "align_self": null,
       "border_bottom": null,
       "border_left": null,
       "border_right": null,
       "border_top": null,
       "bottom": null,
       "display": null,
       "flex": null,
       "flex_flow": null,
       "grid_area": null,
       "grid_auto_columns": null,
       "grid_auto_flow": null,
       "grid_auto_rows": null,
       "grid_column": null,
       "grid_gap": null,
       "grid_row": null,
       "grid_template_areas": null,
       "grid_template_columns": null,
       "grid_template_rows": null,
       "height": null,
       "justify_content": null,
       "justify_items": null,
       "left": null,
       "margin": null,
       "max_height": null,
       "max_width": null,
       "min_height": null,
       "min_width": null,
       "object_fit": null,
       "object_position": null,
       "order": null,
       "overflow": null,
       "padding": null,
       "right": null,
       "top": null,
       "visibility": null,
       "width": null
      }
     },
     "64cc0f4ba20b47138614098deb741532": {
      "model_module": "@jupyter-widgets/base",
      "model_module_version": "2.0.0",
      "model_name": "LayoutModel",
      "state": {
       "_model_module": "@jupyter-widgets/base",
       "_model_module_version": "2.0.0",
       "_model_name": "LayoutModel",
       "_view_count": null,
       "_view_module": "@jupyter-widgets/base",
       "_view_module_version": "2.0.0",
       "_view_name": "LayoutView",
       "align_content": null,
       "align_items": null,
       "align_self": null,
       "border_bottom": null,
       "border_left": null,
       "border_right": null,
       "border_top": null,
       "bottom": null,
       "display": null,
       "flex": null,
       "flex_flow": null,
       "grid_area": null,
       "grid_auto_columns": null,
       "grid_auto_flow": null,
       "grid_auto_rows": null,
       "grid_column": null,
       "grid_gap": null,
       "grid_row": null,
       "grid_template_areas": null,
       "grid_template_columns": null,
       "grid_template_rows": null,
       "height": null,
       "justify_content": null,
       "justify_items": null,
       "left": null,
       "margin": null,
       "max_height": null,
       "max_width": null,
       "min_height": null,
       "min_width": null,
       "object_fit": null,
       "object_position": null,
       "order": null,
       "overflow": null,
       "padding": null,
       "right": null,
       "top": null,
       "visibility": null,
       "width": null
      }
     },
     "675c1136322a4aec985ef3aecafe503f": {
      "model_module": "@jupyter-widgets/base",
      "model_module_version": "2.0.0",
      "model_name": "LayoutModel",
      "state": {
       "_model_module": "@jupyter-widgets/base",
       "_model_module_version": "2.0.0",
       "_model_name": "LayoutModel",
       "_view_count": null,
       "_view_module": "@jupyter-widgets/base",
       "_view_module_version": "2.0.0",
       "_view_name": "LayoutView",
       "align_content": null,
       "align_items": null,
       "align_self": null,
       "border_bottom": null,
       "border_left": null,
       "border_right": null,
       "border_top": null,
       "bottom": null,
       "display": null,
       "flex": null,
       "flex_flow": null,
       "grid_area": null,
       "grid_auto_columns": null,
       "grid_auto_flow": null,
       "grid_auto_rows": null,
       "grid_column": null,
       "grid_gap": null,
       "grid_row": null,
       "grid_template_areas": null,
       "grid_template_columns": null,
       "grid_template_rows": null,
       "height": null,
       "justify_content": null,
       "justify_items": null,
       "left": null,
       "margin": null,
       "max_height": null,
       "max_width": null,
       "min_height": null,
       "min_width": null,
       "object_fit": null,
       "object_position": null,
       "order": null,
       "overflow": null,
       "padding": null,
       "right": null,
       "top": null,
       "visibility": null,
       "width": null
      }
     },
     "6bf9afc2ef3b4e56abfb31b1dcb70258": {
      "model_module": "@jupyter-widgets/controls",
      "model_module_version": "2.0.0",
      "model_name": "HTMLStyleModel",
      "state": {
       "_model_module": "@jupyter-widgets/controls",
       "_model_module_version": "2.0.0",
       "_model_name": "HTMLStyleModel",
       "_view_count": null,
       "_view_module": "@jupyter-widgets/base",
       "_view_module_version": "2.0.0",
       "_view_name": "StyleView",
       "background": null,
       "description_width": "",
       "font_size": null,
       "text_color": null
      }
     },
     "6fc02d6340cd4c76a69aab0bd3e1a21e": {
      "model_module": "@jupyter-widgets/base",
      "model_module_version": "2.0.0",
      "model_name": "LayoutModel",
      "state": {
       "_model_module": "@jupyter-widgets/base",
       "_model_module_version": "2.0.0",
       "_model_name": "LayoutModel",
       "_view_count": null,
       "_view_module": "@jupyter-widgets/base",
       "_view_module_version": "2.0.0",
       "_view_name": "LayoutView",
       "align_content": null,
       "align_items": null,
       "align_self": null,
       "border_bottom": null,
       "border_left": null,
       "border_right": null,
       "border_top": null,
       "bottom": null,
       "display": null,
       "flex": null,
       "flex_flow": null,
       "grid_area": null,
       "grid_auto_columns": null,
       "grid_auto_flow": null,
       "grid_auto_rows": null,
       "grid_column": null,
       "grid_gap": null,
       "grid_row": null,
       "grid_template_areas": null,
       "grid_template_columns": null,
       "grid_template_rows": null,
       "height": null,
       "justify_content": null,
       "justify_items": null,
       "left": null,
       "margin": null,
       "max_height": null,
       "max_width": null,
       "min_height": null,
       "min_width": null,
       "object_fit": null,
       "object_position": null,
       "order": null,
       "overflow": null,
       "padding": null,
       "right": null,
       "top": null,
       "visibility": null,
       "width": null
      }
     },
     "75912ccac7684345a49da0714bb3df51": {
      "model_module": "@jupyter-widgets/controls",
      "model_module_version": "2.0.0",
      "model_name": "HTMLModel",
      "state": {
       "_dom_classes": [],
       "_model_module": "@jupyter-widgets/controls",
       "_model_module_version": "2.0.0",
       "_model_name": "HTMLModel",
       "_view_count": null,
       "_view_module": "@jupyter-widgets/controls",
       "_view_module_version": "2.0.0",
       "_view_name": "HTMLView",
       "description": "",
       "description_allow_html": false,
       "layout": "IPY_MODEL_64cc0f4ba20b47138614098deb741532",
       "placeholder": "​",
       "style": "IPY_MODEL_008f9f8bdfb549cfad90de44c09423d3",
       "tabbable": null,
       "tooltip": null,
       "value": "100%"
      }
     },
     "7d7ecb9043954628906fcb5610acd1d5": {
      "model_module": "@jupyter-widgets/base",
      "model_module_version": "2.0.0",
      "model_name": "LayoutModel",
      "state": {
       "_model_module": "@jupyter-widgets/base",
       "_model_module_version": "2.0.0",
       "_model_name": "LayoutModel",
       "_view_count": null,
       "_view_module": "@jupyter-widgets/base",
       "_view_module_version": "2.0.0",
       "_view_name": "LayoutView",
       "align_content": null,
       "align_items": null,
       "align_self": null,
       "border_bottom": null,
       "border_left": null,
       "border_right": null,
       "border_top": null,
       "bottom": null,
       "display": null,
       "flex": null,
       "flex_flow": null,
       "grid_area": null,
       "grid_auto_columns": null,
       "grid_auto_flow": null,
       "grid_auto_rows": null,
       "grid_column": null,
       "grid_gap": null,
       "grid_row": null,
       "grid_template_areas": null,
       "grid_template_columns": null,
       "grid_template_rows": null,
       "height": null,
       "justify_content": null,
       "justify_items": null,
       "left": null,
       "margin": null,
       "max_height": null,
       "max_width": null,
       "min_height": null,
       "min_width": null,
       "object_fit": null,
       "object_position": null,
       "order": null,
       "overflow": null,
       "padding": null,
       "right": null,
       "top": null,
       "visibility": null,
       "width": null
      }
     },
     "832f3dc21d264f8d89348b698870b9bd": {
      "model_module": "@jupyter-widgets/base",
      "model_module_version": "2.0.0",
      "model_name": "LayoutModel",
      "state": {
       "_model_module": "@jupyter-widgets/base",
       "_model_module_version": "2.0.0",
       "_model_name": "LayoutModel",
       "_view_count": null,
       "_view_module": "@jupyter-widgets/base",
       "_view_module_version": "2.0.0",
       "_view_name": "LayoutView",
       "align_content": null,
       "align_items": null,
       "align_self": null,
       "border_bottom": null,
       "border_left": null,
       "border_right": null,
       "border_top": null,
       "bottom": null,
       "display": null,
       "flex": null,
       "flex_flow": null,
       "grid_area": null,
       "grid_auto_columns": null,
       "grid_auto_flow": null,
       "grid_auto_rows": null,
       "grid_column": null,
       "grid_gap": null,
       "grid_row": null,
       "grid_template_areas": null,
       "grid_template_columns": null,
       "grid_template_rows": null,
       "height": null,
       "justify_content": null,
       "justify_items": null,
       "left": null,
       "margin": null,
       "max_height": null,
       "max_width": null,
       "min_height": null,
       "min_width": null,
       "object_fit": null,
       "object_position": null,
       "order": null,
       "overflow": null,
       "padding": null,
       "right": null,
       "top": null,
       "visibility": null,
       "width": null
      }
     },
     "90030e7aae42440baac1f2f898cec37d": {
      "model_module": "@jupyter-widgets/base",
      "model_module_version": "2.0.0",
      "model_name": "LayoutModel",
      "state": {
       "_model_module": "@jupyter-widgets/base",
       "_model_module_version": "2.0.0",
       "_model_name": "LayoutModel",
       "_view_count": null,
       "_view_module": "@jupyter-widgets/base",
       "_view_module_version": "2.0.0",
       "_view_name": "LayoutView",
       "align_content": null,
       "align_items": null,
       "align_self": null,
       "border_bottom": null,
       "border_left": null,
       "border_right": null,
       "border_top": null,
       "bottom": null,
       "display": null,
       "flex": null,
       "flex_flow": null,
       "grid_area": null,
       "grid_auto_columns": null,
       "grid_auto_flow": null,
       "grid_auto_rows": null,
       "grid_column": null,
       "grid_gap": null,
       "grid_row": null,
       "grid_template_areas": null,
       "grid_template_columns": null,
       "grid_template_rows": null,
       "height": null,
       "justify_content": null,
       "justify_items": null,
       "left": null,
       "margin": null,
       "max_height": null,
       "max_width": null,
       "min_height": null,
       "min_width": null,
       "object_fit": null,
       "object_position": null,
       "order": null,
       "overflow": null,
       "padding": null,
       "right": null,
       "top": null,
       "visibility": null,
       "width": null
      }
     },
     "9572cff4700c412194bd8e7480c8df9d": {
      "model_module": "@jupyter-widgets/controls",
      "model_module_version": "2.0.0",
      "model_name": "HBoxModel",
      "state": {
       "_dom_classes": [],
       "_model_module": "@jupyter-widgets/controls",
       "_model_module_version": "2.0.0",
       "_model_name": "HBoxModel",
       "_view_count": null,
       "_view_module": "@jupyter-widgets/controls",
       "_view_module_version": "2.0.0",
       "_view_name": "HBoxView",
       "box_style": "",
       "children": [
        "IPY_MODEL_443ce3f24ca94b8e95f07d0288aecd7b",
        "IPY_MODEL_338ae43c68af4cdbb1d8b2094b7e24f8",
        "IPY_MODEL_488c17ddd5384aaaae362b9d1d561e5f"
       ],
       "layout": "IPY_MODEL_5ae4a54b5141411887c1b286647bc246",
       "tabbable": null,
       "tooltip": null
      }
     },
     "969f4fd0007e48f98963d873deb8c460": {
      "model_module": "@jupyter-widgets/controls",
      "model_module_version": "2.0.0",
      "model_name": "FloatProgressModel",
      "state": {
       "_dom_classes": [],
       "_model_module": "@jupyter-widgets/controls",
       "_model_module_version": "2.0.0",
       "_model_name": "FloatProgressModel",
       "_view_count": null,
       "_view_module": "@jupyter-widgets/controls",
       "_view_module_version": "2.0.0",
       "_view_name": "ProgressView",
       "bar_style": "success",
       "description": "",
       "description_allow_html": false,
       "layout": "IPY_MODEL_637cb71e0fe14d90babef09bf5cfdb88",
       "max": 1044,
       "min": 0,
       "orientation": "horizontal",
       "style": "IPY_MODEL_5c8e2ed0834f42539d234a46fd422271",
       "tabbable": null,
       "tooltip": null,
       "value": 1044
      }
     },
     "a03816b609d8482a8d3e384b10cd68b2": {
      "model_module": "@jupyter-widgets/controls",
      "model_module_version": "2.0.0",
      "model_name": "HBoxModel",
      "state": {
       "_dom_classes": [],
       "_model_module": "@jupyter-widgets/controls",
       "_model_module_version": "2.0.0",
       "_model_name": "HBoxModel",
       "_view_count": null,
       "_view_module": "@jupyter-widgets/controls",
       "_view_module_version": "2.0.0",
       "_view_name": "HBoxView",
       "box_style": "",
       "children": [
        "IPY_MODEL_75912ccac7684345a49da0714bb3df51",
        "IPY_MODEL_e63ac9e7260346428c17e30b5ca0bd20",
        "IPY_MODEL_d709229f603740f2adc5d0656946d50b"
       ],
       "layout": "IPY_MODEL_6fc02d6340cd4c76a69aab0bd3e1a21e",
       "tabbable": null,
       "tooltip": null
      }
     },
     "a79ed943d3f348a1952a7a322e0b7ac1": {
      "model_module": "@jupyter-widgets/base",
      "model_module_version": "2.0.0",
      "model_name": "LayoutModel",
      "state": {
       "_model_module": "@jupyter-widgets/base",
       "_model_module_version": "2.0.0",
       "_model_name": "LayoutModel",
       "_view_count": null,
       "_view_module": "@jupyter-widgets/base",
       "_view_module_version": "2.0.0",
       "_view_name": "LayoutView",
       "align_content": null,
       "align_items": null,
       "align_self": null,
       "border_bottom": null,
       "border_left": null,
       "border_right": null,
       "border_top": null,
       "bottom": null,
       "display": null,
       "flex": null,
       "flex_flow": null,
       "grid_area": null,
       "grid_auto_columns": null,
       "grid_auto_flow": null,
       "grid_auto_rows": null,
       "grid_column": null,
       "grid_gap": null,
       "grid_row": null,
       "grid_template_areas": null,
       "grid_template_columns": null,
       "grid_template_rows": null,
       "height": null,
       "justify_content": null,
       "justify_items": null,
       "left": null,
       "margin": null,
       "max_height": null,
       "max_width": null,
       "min_height": null,
       "min_width": null,
       "object_fit": null,
       "object_position": null,
       "order": null,
       "overflow": null,
       "padding": null,
       "right": null,
       "top": null,
       "visibility": null,
       "width": null
      }
     },
     "a94c607e85894f70ae4a8815eff6d5eb": {
      "model_module": "@jupyter-widgets/controls",
      "model_module_version": "2.0.0",
      "model_name": "ProgressStyleModel",
      "state": {
       "_model_module": "@jupyter-widgets/controls",
       "_model_module_version": "2.0.0",
       "_model_name": "ProgressStyleModel",
       "_view_count": null,
       "_view_module": "@jupyter-widgets/base",
       "_view_module_version": "2.0.0",
       "_view_name": "StyleView",
       "bar_color": null,
       "description_width": ""
      }
     },
     "aebfc7507f0846a28ba0c7d22e75cb60": {
      "model_module": "@jupyter-widgets/controls",
      "model_module_version": "2.0.0",
      "model_name": "ProgressStyleModel",
      "state": {
       "_model_module": "@jupyter-widgets/controls",
       "_model_module_version": "2.0.0",
       "_model_name": "ProgressStyleModel",
       "_view_count": null,
       "_view_module": "@jupyter-widgets/base",
       "_view_module_version": "2.0.0",
       "_view_name": "StyleView",
       "bar_color": null,
       "description_width": ""
      }
     },
     "bbca4e75cd054a26bb031400f243a5ef": {
      "model_module": "@jupyter-widgets/base",
      "model_module_version": "2.0.0",
      "model_name": "LayoutModel",
      "state": {
       "_model_module": "@jupyter-widgets/base",
       "_model_module_version": "2.0.0",
       "_model_name": "LayoutModel",
       "_view_count": null,
       "_view_module": "@jupyter-widgets/base",
       "_view_module_version": "2.0.0",
       "_view_name": "LayoutView",
       "align_content": null,
       "align_items": null,
       "align_self": null,
       "border_bottom": null,
       "border_left": null,
       "border_right": null,
       "border_top": null,
       "bottom": null,
       "display": null,
       "flex": null,
       "flex_flow": null,
       "grid_area": null,
       "grid_auto_columns": null,
       "grid_auto_flow": null,
       "grid_auto_rows": null,
       "grid_column": null,
       "grid_gap": null,
       "grid_row": null,
       "grid_template_areas": null,
       "grid_template_columns": null,
       "grid_template_rows": null,
       "height": null,
       "justify_content": null,
       "justify_items": null,
       "left": null,
       "margin": null,
       "max_height": null,
       "max_width": null,
       "min_height": null,
       "min_width": null,
       "object_fit": null,
       "object_position": null,
       "order": null,
       "overflow": null,
       "padding": null,
       "right": null,
       "top": null,
       "visibility": null,
       "width": null
      }
     },
     "bcb5b63d84ce479a8138a44afe2d4037": {
      "model_module": "@jupyter-widgets/controls",
      "model_module_version": "2.0.0",
      "model_name": "HTMLStyleModel",
      "state": {
       "_model_module": "@jupyter-widgets/controls",
       "_model_module_version": "2.0.0",
       "_model_name": "HTMLStyleModel",
       "_view_count": null,
       "_view_module": "@jupyter-widgets/base",
       "_view_module_version": "2.0.0",
       "_view_name": "StyleView",
       "background": null,
       "description_width": "",
       "font_size": null,
       "text_color": null
      }
     },
     "cb88492eba444622bbf4980caf375c15": {
      "model_module": "@jupyter-widgets/controls",
      "model_module_version": "2.0.0",
      "model_name": "HTMLStyleModel",
      "state": {
       "_model_module": "@jupyter-widgets/controls",
       "_model_module_version": "2.0.0",
       "_model_name": "HTMLStyleModel",
       "_view_count": null,
       "_view_module": "@jupyter-widgets/base",
       "_view_module_version": "2.0.0",
       "_view_name": "StyleView",
       "background": null,
       "description_width": "",
       "font_size": null,
       "text_color": null
      }
     },
     "d709229f603740f2adc5d0656946d50b": {
      "model_module": "@jupyter-widgets/controls",
      "model_module_version": "2.0.0",
      "model_name": "HTMLModel",
      "state": {
       "_dom_classes": [],
       "_model_module": "@jupyter-widgets/controls",
       "_model_module_version": "2.0.0",
       "_model_name": "HTMLModel",
       "_view_count": null,
       "_view_module": "@jupyter-widgets/controls",
       "_view_module_version": "2.0.0",
       "_view_name": "HTMLView",
       "description": "",
       "description_allow_html": false,
       "layout": "IPY_MODEL_832f3dc21d264f8d89348b698870b9bd",
       "placeholder": "​",
       "style": "IPY_MODEL_0abb0e1e558d4648ad7338b4bd61f7cc",
       "tabbable": null,
       "tooltip": null,
       "value": " 131/131 [00:00&lt;00:00, 1115.98it/s]"
      }
     },
     "daab8eb40478439fbc99412c92c24e4f": {
      "model_module": "@jupyter-widgets/controls",
      "model_module_version": "2.0.0",
      "model_name": "HBoxModel",
      "state": {
       "_dom_classes": [],
       "_model_module": "@jupyter-widgets/controls",
       "_model_module_version": "2.0.0",
       "_model_name": "HBoxModel",
       "_view_count": null,
       "_view_module": "@jupyter-widgets/controls",
       "_view_module_version": "2.0.0",
       "_view_name": "HBoxView",
       "box_style": "",
       "children": [
        "IPY_MODEL_539f21e125554233a5d869d9a617f262",
        "IPY_MODEL_969f4fd0007e48f98963d873deb8c460",
        "IPY_MODEL_f7848ade65f5403a923e0ce92adbfd95"
       ],
       "layout": "IPY_MODEL_90030e7aae42440baac1f2f898cec37d",
       "tabbable": null,
       "tooltip": null
      }
     },
     "e63ac9e7260346428c17e30b5ca0bd20": {
      "model_module": "@jupyter-widgets/controls",
      "model_module_version": "2.0.0",
      "model_name": "FloatProgressModel",
      "state": {
       "_dom_classes": [],
       "_model_module": "@jupyter-widgets/controls",
       "_model_module_version": "2.0.0",
       "_model_name": "FloatProgressModel",
       "_view_count": null,
       "_view_module": "@jupyter-widgets/controls",
       "_view_module_version": "2.0.0",
       "_view_name": "ProgressView",
       "bar_style": "success",
       "description": "",
       "description_allow_html": false,
       "layout": "IPY_MODEL_bbca4e75cd054a26bb031400f243a5ef",
       "max": 131,
       "min": 0,
       "orientation": "horizontal",
       "style": "IPY_MODEL_aebfc7507f0846a28ba0c7d22e75cb60",
       "tabbable": null,
       "tooltip": null,
       "value": 131
      }
     },
     "f69c5b14ccd6410aa111ec0eed826fcf": {
      "model_module": "@jupyter-widgets/controls",
      "model_module_version": "2.0.0",
      "model_name": "HTMLStyleModel",
      "state": {
       "_model_module": "@jupyter-widgets/controls",
       "_model_module_version": "2.0.0",
       "_model_name": "HTMLStyleModel",
       "_view_count": null,
       "_view_module": "@jupyter-widgets/base",
       "_view_module_version": "2.0.0",
       "_view_name": "StyleView",
       "background": null,
       "description_width": "",
       "font_size": null,
       "text_color": null
      }
     },
     "f7848ade65f5403a923e0ce92adbfd95": {
      "model_module": "@jupyter-widgets/controls",
      "model_module_version": "2.0.0",
      "model_name": "HTMLModel",
      "state": {
       "_dom_classes": [],
       "_model_module": "@jupyter-widgets/controls",
       "_model_module_version": "2.0.0",
       "_model_name": "HTMLModel",
       "_view_count": null,
       "_view_module": "@jupyter-widgets/controls",
       "_view_module_version": "2.0.0",
       "_view_name": "HTMLView",
       "description": "",
       "description_allow_html": false,
       "layout": "IPY_MODEL_a79ed943d3f348a1952a7a322e0b7ac1",
       "placeholder": "​",
       "style": "IPY_MODEL_f69c5b14ccd6410aa111ec0eed826fcf",
       "tabbable": null,
       "tooltip": null,
       "value": " 1044/1044 [00:00&lt;00:00, 1083.27it/s]"
      }
     }
    },
    "version_major": 2,
    "version_minor": 0
   }
  }
 },
 "nbformat": 4,
 "nbformat_minor": 4
}
