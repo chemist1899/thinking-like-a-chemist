{
 "cells": [
  {
   "cell_type": "code",
   "execution_count": null,
   "id": "1d6f265e-e433-48e9-a783-950e8b12260c",
   "metadata": {},
   "outputs": [],
   "source": [
    "import torch\n",
    "import pandas as pd\n",
    "from pathlib import Path\n",
    "from tqdm.auto import tqdm\n",
    "import numpy as np\n",
    "import wandb"
   ]
  },
  {
   "cell_type": "code",
   "execution_count": null,
   "id": "cb87046b-24e4-4963-ace0-615a30c7ddeb",
   "metadata": {},
   "outputs": [],
   "source": [
    "model_name_base = 'graphormer-base-pcqm4mv1'\n",
    "model_name = 'clefourrier/graphormer-base-pcqm4mv1'"
   ]
  },
  {
   "cell_type": "code",
   "execution_count": null,
   "id": "74b46e7f-7cec-434c-bece-7436446b0dfd",
   "metadata": {},
   "outputs": [],
   "source": [
    "batch_size = 2"
   ]
  },
  {
   "cell_type": "markdown",
   "id": "7d36cd61-adb3-490a-9082-1697fba25a19",
   "metadata": {},
   "source": [
    "### Upload Dataset"
   ]
  },
  {
   "cell_type": "code",
   "execution_count": null,
   "id": "d6ef798c-7e97-4a0b-98f9-ff50519ff824",
   "metadata": {},
   "outputs": [],
   "source": [
    "dataframe = pd.read_csv(\"data_10k_graph.csv\")"
   ]
  },
  {
   "cell_type": "code",
   "execution_count": null,
   "id": "c802eac3-0860-4705-8cf2-ee916f02f789",
   "metadata": {},
   "outputs": [],
   "source": [
    "print('Percentage on NaNs:')\n",
    "dataframe.isna().mean()"
   ]
  },
  {
   "cell_type": "code",
   "execution_count": null,
   "id": "6bf55334-c3e7-4a68-9f06-9f1be413e440",
   "metadata": {},
   "outputs": [],
   "source": [
    "dataframe = dataframe.drop(columns=['Smiles', 'ecfp1', 'ecfp2', 'ecfp3'])"
   ]
  },
  {
   "cell_type": "code",
   "execution_count": null,
   "id": "edbb0890-2585-41a5-b941-002655ce134a",
   "metadata": {},
   "outputs": [],
   "source": [
    "def preprocess_array_column(df, column):\n",
    "    for row in tqdm(range(len(df))):\n",
    "        str_ints = eval(df.iloc[row][column])\n",
    "        df.at[row, column] = str_ints"
   ]
  },
  {
   "cell_type": "code",
   "execution_count": null,
   "id": "888040a6-edda-4e71-a758-38046902fbb6",
   "metadata": {},
   "outputs": [],
   "source": [
    "preprocess_array_column(dataframe, 'node_feat')\n",
    "preprocess_array_column(dataframe, 'edge_index')\n",
    "preprocess_array_column(dataframe, 'edge_attr')\n",
    "preprocess_array_column(dataframe, 'y')"
   ]
  },
  {
   "cell_type": "markdown",
   "id": "0e537cd3-1e45-4e4a-8d58-251adbe3d9c1",
   "metadata": {},
   "source": [
    "### Normalize target"
   ]
  },
  {
   "cell_type": "code",
   "execution_count": null,
   "id": "64c7a3c9-2987-4ee5-a10a-7ccbcf5b6cf1",
   "metadata": {},
   "outputs": [],
   "source": [
    "dataframe['y'] = dataframe['y'].apply(lambda x: x[0])"
   ]
  },
  {
   "cell_type": "code",
   "execution_count": null,
   "id": "54622e51-94dd-462b-9370-4187f265b951",
   "metadata": {},
   "outputs": [],
   "source": [
    "from sklearn.preprocessing import MinMaxScaler\n",
    "\n",
    "scaler = MinMaxScaler() # отображает данные в отрезок [0, 1]\n",
    "dataframe['y'] = scaler.fit_transform(dataframe['y'].to_numpy().reshape(-1, 1))"
   ]
  },
  {
   "cell_type": "code",
   "execution_count": null,
   "id": "d4882a00-5fb1-4f95-897e-ee0d84d57176",
   "metadata": {},
   "outputs": [],
   "source": [
    "dataframe['y'] = dataframe['y'].apply(lambda x: [x])"
   ]
  },
  {
   "cell_type": "code",
   "execution_count": null,
   "id": "99f61b38-6727-4acf-98cd-40ceb8695af6",
   "metadata": {},
   "outputs": [],
   "source": [
    "dataframe['y']"
   ]
  },
  {
   "cell_type": "markdown",
   "id": "827d58c5-eb7a-4420-b0db-f743e2167213",
   "metadata": {},
   "source": [
    "### Create Dataloader"
   ]
  },
  {
   "cell_type": "code",
   "execution_count": null,
   "id": "2d5561e6-2477-4ead-9fae-91cae781bfe5",
   "metadata": {},
   "outputs": [],
   "source": [
    "from datasets import Dataset, DatasetDict\n",
    "\n",
    "dataset = Dataset.from_pandas(dataframe)\n",
    "train_testvalid = dataset.train_test_split(test_size=0.2, seed=15)\n",
    "\n",
    "test_valid = train_testvalid['test'].train_test_split(test_size=0.5, seed=15)\n",
    "\n",
    "# 10% for test, 10 for validation, 80% for train\n",
    "dataset = DatasetDict({\n",
    "    'train': train_testvalid['train'],\n",
    "    'test': test_valid['test'],\n",
    "    'validation': test_valid['train']})\n",
    "\n",
    "dataset"
   ]
  },
  {
   "cell_type": "code",
   "execution_count": null,
   "id": "b5e5a85d-97b8-44cf-8229-fde39c8a68cf",
   "metadata": {},
   "outputs": [],
   "source": [
    "from transformers.models.graphormer.collating_graphormer import preprocess_item, GraphormerDataCollator\n",
    "\n",
    "dataset_processed = dataset.map(preprocess_item, batched=False)\n",
    "# data_loader = GraphormerDataCollator(on_the_fly_processing=True) # либо препроцессинг либо коллайтор с on_the_fly_processing"
   ]
  },
  {
   "cell_type": "code",
   "execution_count": null,
   "id": "67f3e1e0-6ecf-480c-8ab4-7d356aeeb782",
   "metadata": {},
   "outputs": [],
   "source": [
    "dataset_processed.save_to_disk('dataset_10k_graphormer_preprocessed_normilized')"
   ]
  },
  {
   "cell_type": "code",
   "execution_count": null,
   "id": "f0ccf362-6633-4279-86fb-2799d9ab22ca",
   "metadata": {},
   "outputs": [],
   "source": [
    "# from datasets import load_from_disk\n",
    "# dataset_processed = load_from_disk('dataset_10k_graphormer_preprocessed')"
   ]
  },
  {
   "cell_type": "markdown",
   "id": "89a56144-3102-4a21-b86b-8e851dc97026",
   "metadata": {},
   "source": [
    "### Create Model"
   ]
  },
  {
   "cell_type": "code",
   "execution_count": null,
   "id": "f3aa5011-5db5-4ede-b9fc-1f7af8128fe9",
   "metadata": {},
   "outputs": [],
   "source": [
    "# from transformers import AutoModel, AutoConfig\n",
    "\n",
    "# config = AutoConfig.from_pretrained(model_name)\n",
    "# AutoModel.from_pretrained(model_name, config=config)"
   ]
  },
  {
   "cell_type": "code",
   "execution_count": null,
   "id": "66254640-38dc-4da6-bccf-634174aca108",
   "metadata": {},
   "outputs": [],
   "source": [
    "# from transformers import AutoModel, AutoConfig\n",
    "\n",
    "# class MolecularPropertiesRegression(torch.nn.Module):\n",
    "#     def __init__(self, model_name, num_properties):\n",
    "#         super(MolecularPropertiesRegression, self).__init__()\n",
    "#         self.num_properties = num_properties\n",
    "\n",
    "#         config = AutoConfig.from_pretrained(model_name)\n",
    "#         self.transformer = AutoModel.from_pretrained(model_name, config=config)\n",
    "#         # removing last layer of transformer\n",
    "#         self.transformer.pooler = torch.nn.Identity()\n",
    "#         # freezing transformer weights\n",
    "#         for param in self.transformer.parameters():\n",
    "#             param.requires_grad = False\n",
    "#         self.regressor = torch.nn.Linear(768, num_properties)\n",
    "\n",
    "#     def forward(self, input_ids = None, attention_mask=None):\n",
    "#         outputs = self.transformer(input_ids=input_ids, attention_mask=attention_mask)\n",
    "        \n",
    "#         last_hidden_state = outputs[0]\n",
    "#         # last_hidden_state is the shape of (batch_size=32, input_sequence_length=512, hidden_size=768)\n",
    "#         # so we take only hidden emdedding for [CLS] token (first) as it contains the entire context\n",
    "#         # and would be sufficient for simple downstream tasks such as classification/regression\n",
    "#         predicted_property_values = self.regressor(last_hidden_state[:, 0, : ].view(-1, 768))\n",
    "\n",
    "#         return predicted_property_values\n",
    "        "
   ]
  },
  {
   "cell_type": "markdown",
   "id": "dc5b0c73-a897-407e-a8c7-158283f97de4",
   "metadata": {},
   "source": [
    "### Create DataLoader"
   ]
  },
  {
   "cell_type": "code",
   "execution_count": null,
   "id": "186e336b-018d-4806-a9b9-8cc1e72d1d12",
   "metadata": {},
   "outputs": [],
   "source": [
    "from transformers.models.graphormer.collating_graphormer import GraphormerDataCollator\n",
    "\n",
    "class GraphormerDataCollator_():\n",
    "    def __init__(self):\n",
    "        self.data_collator = GraphormerDataCollator()\n",
    "\n",
    "    def __call__(self, features):\n",
    "        for mol in features:\n",
    "            if mol['num_nodes'] == 1:\n",
    "                features.remove(mol)\n",
    "        return self.data_collator(features)"
   ]
  },
  {
   "cell_type": "code",
   "execution_count": null,
   "id": "79747c27-653a-486a-ab4d-3f2c6ec347f5",
   "metadata": {},
   "outputs": [],
   "source": [
    "from torch.utils.data import DataLoader\n",
    "\n",
    "data_collator = GraphormerDataCollator_()\n",
    "\n",
    "train_dataloader = DataLoader(\n",
    "    dataset_processed['train'], shuffle = False, batch_size = batch_size, collate_fn = data_collator\n",
    ")\n",
    "\n",
    "eval_dataloader = DataLoader(\n",
    "    dataset_processed['validation'], shuffle = False, batch_size = batch_size, collate_fn = data_collator\n",
    ")"
   ]
  },
  {
   "cell_type": "code",
   "execution_count": null,
   "id": "8ba7ac61-1655-43f6-892e-46d0d54b05e5",
   "metadata": {},
   "outputs": [],
   "source": [
    "device = torch.device(\"cuda\", index=5) if torch.cuda.is_available() else torch.device('cpu')"
   ]
  },
  {
   "cell_type": "code",
   "execution_count": null,
   "id": "08055762-1a53-49e6-8cd7-71161852abe8",
   "metadata": {},
   "outputs": [],
   "source": [
    "from transformers import GraphormerForGraphClassification\n",
    "\n",
    "model = GraphormerForGraphClassification.from_pretrained(\n",
    "    model_name, \n",
    "    num_classes=1,\n",
    "    ignore_mismatched_sizes = True, # provide this in case you're planning to fine-tune an already fine-tuned checkpoint\n",
    ").to(device)"
   ]
  },
  {
   "cell_type": "code",
   "execution_count": null,
   "id": "c1428e13-d841-45e7-a885-919d4670a102",
   "metadata": {},
   "outputs": [],
   "source": [
    "model"
   ]
  },
  {
   "cell_type": "code",
   "execution_count": null,
   "id": "04001413-80f4-4663-ab5d-a107e839c5c3",
   "metadata": {},
   "outputs": [],
   "source": [
    "from transformers import AdamW, get_scheduler\n",
    "\n",
    "optimizer = AdamW(model.parameters(), lr=5e-5)\n",
    "\n",
    "num_epoch = 100\n",
    "\n",
    "num_training_steps = num_epoch * len(train_dataloader)\n",
    "\n",
    "lr_scheduler = get_scheduler(\n",
    "    'linear',\n",
    "    optimizer = optimizer,\n",
    "    num_warmup_steps = 0,\n",
    "    num_training_steps = num_training_steps,\n",
    ")\n",
    "\n",
    "loss_func = torch.nn.MSELoss()"
   ]
  },
  {
   "cell_type": "code",
   "execution_count": null,
   "id": "6f78e178-f7c1-4fc0-b8ad-5c5d5e03281f",
   "metadata": {},
   "outputs": [],
   "source": [
    "wandb.init(\n",
    "    project=\"graphormer\",\n",
    "    name=\"Graphormer Simple Classification on MolecularWeight 10k 100_epochs\",\n",
    "    config={}\n",
    ")"
   ]
  },
  {
   "cell_type": "markdown",
   "id": "30a951a1-7c75-47bd-b275-9693eb22fe95",
   "metadata": {},
   "source": [
    "### Training"
   ]
  },
  {
   "cell_type": "code",
   "execution_count": null,
   "id": "9f0f67d5-c7f4-4ea0-959f-b1a990387a1e",
   "metadata": {},
   "outputs": [],
   "source": [
    "from tqdm.auto import tqdm\n",
    "\n",
    "progress_bar_train = tqdm(range(num_training_steps))\n",
    "progress_bar_eval = tqdm(range(num_epoch * len(eval_dataloader)))\n",
    "\n",
    "for epoch in range(num_epoch):\n",
    "    model.train()\n",
    "    train_epoch_loss = 0\n",
    "    for batch in train_dataloader:\n",
    "        input_batch = { k: v.to(device) for k, v in batch.items() }\n",
    "        \n",
    "        outputs = model(**input_batch)\n",
    "        \n",
    "        loss = outputs[\"loss\"] if isinstance(outputs, dict) else outputs[0]\n",
    "        loss.backward()\n",
    "        train_epoch_loss += loss.item()\n",
    "        \n",
    "        optimizer.step()\n",
    "        lr_scheduler.step()\n",
    "        optimizer.zero_grad()\n",
    "        progress_bar_train.update(1)\n",
    "\n",
    "    model.eval()\n",
    "    eval_epoch_loss = 0\n",
    "    for batch in eval_dataloader:\n",
    "        input_batch = { k: v.to(device) for k, v in batch.items() }\n",
    "\n",
    "        with torch.no_grad():\n",
    "            outputs = model(**input_batch)\n",
    "\n",
    "        loss = outputs[\"loss\"] if isinstance(outputs, dict) else outputs[0]\n",
    "        eval_epoch_loss += loss.item()\n",
    "\n",
    "        progress_bar_eval.update(1)\n",
    "    \n",
    "    wandb.log({\"loss/train\": train_epoch_loss / len(train_dataloader), \"loss/validation\": eval_epoch_loss / len(eval_dataloader)})"
   ]
  },
  {
   "cell_type": "code",
   "execution_count": null,
   "id": "1148d2f3-1419-4f4d-a17d-56139aa6064e",
   "metadata": {},
   "outputs": [],
   "source": [
    "torch.onnx.export(model, input_batch, model_name_base + \"_10k_100_epochs.onnx\")\n",
    "wandb.save(model_name_base + \"_10k_100_epochs.onnx\")"
   ]
  },
  {
   "cell_type": "markdown",
   "id": "da956be4-4edd-4123-aa7b-34b7dfb2973b",
   "metadata": {},
   "source": [
    "## Post Training Evaluation"
   ]
  },
  {
   "cell_type": "code",
   "execution_count": null,
   "id": "472d65db-87eb-4dfb-99bb-412126824fe9",
   "metadata": {},
   "outputs": [],
   "source": [
    "test_dataloader = DataLoader(\n",
    "    dataset_processed['test'], batch_size = batch_size, collate_fn = data_collator\n",
    ")\n",
    "\n",
    "model.eval()\n",
    "epoch_loss = 0\n",
    "for batch in tqdm(test_dataloader):\n",
    "        input_batch = { k: v.to(device) for k, v in batch.items() }\n",
    "\n",
    "        with torch.no_grad():\n",
    "            outputs = model(**input_batch)\n",
    "\n",
    "        loss = outputs[\"loss\"] if isinstance(outputs, dict) else outputs[0]\n",
    "        epoch_loss += loss.item()\n",
    "    \n",
    "wandb.log({\"loss/test\": epoch_loss / len(test_dataloader)})"
   ]
  },
  {
   "cell_type": "code",
   "execution_count": null,
   "id": "7a0f7733-440e-48e2-bd6a-f88e362ce757",
   "metadata": {},
   "outputs": [],
   "source": [
    "wandb.finish()"
   ]
  },
  {
   "cell_type": "code",
   "execution_count": null,
   "id": "d5fb0858-1e3f-4458-99b5-7b141756ca75",
   "metadata": {},
   "outputs": [],
   "source": [
    "model.save_pretrained(model_name_base + '_10k_100epochs unnormalized')"
   ]
  },
  {
   "cell_type": "code",
   "execution_count": null,
   "id": "a38ad7b9-f82b-4936-bd4f-26266cbb6b25",
   "metadata": {},
   "outputs": [],
   "source": [
    "# torch.save(model, model_name_base + '_10k_10epochs.pt')"
   ]
  },
  {
   "cell_type": "code",
   "execution_count": null,
   "id": "57a96b63-ec67-4374-968e-bd71ff08c91b",
   "metadata": {},
   "outputs": [],
   "source": [
    "torch.cuda.empty_cache()"
   ]
  },
  {
   "cell_type": "code",
   "execution_count": null,
   "id": "7af68b4a-8c8a-44b8-9cb2-345f1abdda1e",
   "metadata": {},
   "outputs": [],
   "source": []
  }
 ],
 "metadata": {
  "kernelspec": {
   "display_name": "Python 3 (ipykernel)",
   "language": "python",
   "name": "python3"
  },
  "language_info": {
   "codemirror_mode": {
    "name": "ipython",
    "version": 3
   },
   "file_extension": ".py",
   "mimetype": "text/x-python",
   "name": "python",
   "nbconvert_exporter": "python",
   "pygments_lexer": "ipython3",
   "version": "3.7.0"
  },
  "widgets": {
   "application/vnd.jupyter.widget-state+json": {
    "state": {},
    "version_major": 2,
    "version_minor": 0
   }
  }
 },
 "nbformat": 4,
 "nbformat_minor": 5
}
